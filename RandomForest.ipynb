{
  "nbformat": 4,
  "nbformat_minor": 0,
  "metadata": {
    "colab": {
      "name": "RandomForest.ipynb",
      "provenance": [],
      "collapsed_sections": []
    },
    "kernelspec": {
      "name": "python3",
      "display_name": "Python 3"
    }
  },
  "cells": [
    {
      "cell_type": "code",
      "metadata": {
        "id": "OD-cl8oIqFBT",
        "colab_type": "code",
        "colab": {}
      },
      "source": [
        "# Random Forest algorithm to classify network traffic "
      ],
      "execution_count": null,
      "outputs": []
    },
    {
      "cell_type": "code",
      "metadata": {
        "id": "ujmRxEn4oEuO",
        "colab_type": "code",
        "colab": {}
      },
      "source": [
        "from sklearn.model_selection import train_test_split\n",
        "from sklearn.preprocessing import LabelEncoder\n",
        "\n",
        "from sklearn.tree import DecisionTreeClassifier\n",
        "from sklearn.ensemble import RandomForestClassifier\n",
        "from sklearn.metrics import accuracy_score, precision_score, recall_score, f1_score\n",
        "\n",
        "from sklearn.metrics import confusion_matrix\n",
        "from sklearn.model_selection import GridSearchCV\n",
        "from sklearn.metrics import classification_report\n",
        "from sklearn.preprocessing import StandardScaler\n",
        "\n",
        "from sklearn.metrics import confusion_matrix\n",
        "import seaborn as sns\n",
        "import matplotlib.pyplot as plt"
      ],
      "execution_count": null,
      "outputs": []
    },
    {
      "cell_type": "code",
      "metadata": {
        "id": "y_fdPDxgoE2i",
        "colab_type": "code",
        "colab": {}
      },
      "source": [
        "filepath = \"pathToPreprocessedFile\"\n",
        "df = pd.read_csv(filepath)"
      ],
      "execution_count": null,
      "outputs": []
    },
    {
      "cell_type": "code",
      "metadata": {
        "id": "9RVR7bV_oE9o",
        "colab_type": "code",
        "colab": {}
      },
      "source": [
        "feats = [x for x in df.columns if x != 'ProtocolName']\n",
        "X = df[feats]\n",
        "Y = df['ProtocolName']"
      ],
      "execution_count": null,
      "outputs": []
    },
    {
      "cell_type": "code",
      "metadata": {
        "id": "jkUMfi99oFAj",
        "colab_type": "code",
        "colab": {}
      },
      "source": [
        "X_train, X_test, y_train, y_test = train_test_split(X, Y, test_size = 0.3, random_state = 42)"
      ],
      "execution_count": null,
      "outputs": []
    },
    {
      "cell_type": "code",
      "metadata": {
        "id": "LJ-PpQwroFVR",
        "colab_type": "code",
        "colab": {}
      },
      "source": [
        "dt = DecisionTreeClassifier()\n",
        "dt.fit(X_train , y_train)"
      ],
      "execution_count": null,
      "outputs": []
    },
    {
      "cell_type": "code",
      "metadata": {
        "id": "4R_isydloFle",
        "colab_type": "code",
        "colab": {}
      },
      "source": [
        "dt.tree_.node_count, dt.tree_.max_depth"
      ],
      "execution_count": null,
      "outputs": []
    },
    {
      "cell_type": "code",
      "metadata": {
        "id": "2tRZZzZyoFov",
        "colab_type": "code",
        "colab": {}
      },
      "source": [
        "dt.score(X_test, y_test)"
      ],
      "execution_count": null,
      "outputs": []
    },
    {
      "cell_type": "code",
      "metadata": {
        "id": "45BW6aVOoE8T",
        "colab_type": "code",
        "colab": {}
      },
      "source": [
        "rf = RandomForestClassifier()\n",
        "rf.fit(X_train , y_train)"
      ],
      "execution_count": null,
      "outputs": []
    },
    {
      "cell_type": "code",
      "metadata": {
        "id": "UnieIfn7oE5K",
        "colab_type": "code",
        "colab": {}
      },
      "source": [
        "rf.tree_.node_count, rf.tree_.max_depth"
      ],
      "execution_count": null,
      "outputs": []
    },
    {
      "cell_type": "code",
      "metadata": {
        "id": "YEURpNYyoE1L",
        "colab_type": "code",
        "colab": {}
      },
      "source": [
        "rf.score(X_test, y_test)"
      ],
      "execution_count": null,
      "outputs": []
    },
    {
      "cell_type": "code",
      "metadata": {
        "id": "RutKKPW_oEyH",
        "colab_type": "code",
        "colab": {}
      },
      "source": [
        "model = RandomForestClassifier()\n",
        "param_grid = {'max_depth':[30,40,50],\n",
        "              'n_estimators':[20,30,40,50],  \n",
        "              'max_features':['auto','log2'],\n",
        "              'criterion':['gini','entropy']}\n",
        "GR = GridSearchCV(estimator = model, param_grid = param_grid, scoring='accuracy', cv=6)"
      ],
      "execution_count": null,
      "outputs": []
    },
    {
      "cell_type": "code",
      "metadata": {
        "id": "H5ft0E2hpfR3",
        "colab_type": "code",
        "colab": {}
      },
      "source": [
        "GR.fit(X, Y)"
      ],
      "execution_count": null,
      "outputs": []
    },
    {
      "cell_type": "code",
      "metadata": {
        "id": "qIsZxjANpheV",
        "colab_type": "code",
        "colab": {}
      },
      "source": [
        "GR.best_score_"
      ],
      "execution_count": null,
      "outputs": []
    },
    {
      "cell_type": "code",
      "metadata": {
        "id": "kno25Aq_piuY",
        "colab_type": "code",
        "colab": {}
      },
      "source": [
        "GR.best_params_"
      ],
      "execution_count": null,
      "outputs": []
    },
    {
      "cell_type": "code",
      "metadata": {
        "id": "Y8yvaWH6pkhf",
        "colab_type": "code",
        "colab": {}
      },
      "source": [
        "rf = RandomForestClassifier(max_depth=60, n_estimators=100, max_features='auto', criterion='entropy')"
      ],
      "execution_count": null,
      "outputs": []
    },
    {
      "cell_type": "code",
      "metadata": {
        "id": "oQ-BLii1p6vd",
        "colab_type": "code",
        "colab": {}
      },
      "source": [
        "%%time\n",
        "rf.fit(X_train, y_train)"
      ],
      "execution_count": null,
      "outputs": []
    },
    {
      "cell_type": "code",
      "metadata": {
        "id": "Vn_XYF7Pp7Ys",
        "colab_type": "code",
        "colab": {}
      },
      "source": [
        "%%time\n",
        "rf.score(X_test, y_test)"
      ],
      "execution_count": null,
      "outputs": []
    },
    {
      "cell_type": "code",
      "metadata": {
        "id": "ltiO_lh2p7en",
        "colab_type": "code",
        "colab": {}
      },
      "source": [
        "%%time\n",
        "y_pred = rf.predict(X_test)"
      ],
      "execution_count": null,
      "outputs": []
    },
    {
      "cell_type": "code",
      "metadata": {
        "id": "sKeV4InjqZKn",
        "colab_type": "code",
        "colab": {}
      },
      "source": [
        "print(classification_report(y_test, y_pred))"
      ],
      "execution_count": null,
      "outputs": []
    },
    {
      "cell_type": "code",
      "metadata": {
        "id": "0B0YFGkbqjXA",
        "colab_type": "code",
        "colab": {}
      },
      "source": [
        "cf_matrix = confusion_matrix(y_test, y_pred)\n",
        "fig, ax = plt.subplots(figsize=(34,12)) \n",
        "sns.heatmap(cf_matrix,annot=True, ax=ax, fmt='d', annot_kws={\"size\": 12})\n",
        "#plt.savefig(\"RF_cf2.png\")"
      ],
      "execution_count": null,
      "outputs": []
    },
    {
      "cell_type": "code",
      "metadata": {
        "id": "51iA-lnnp7ng",
        "colab_type": "code",
        "colab": {}
      },
      "source": [
        "importances = rf.feature_importances_\n",
        "indices = np.argsort(importances)[::-1]\n",
        "names = [feats[i] for i in indices]\n",
        "plt.figure(figsize=(24,12))\n",
        "plt.title(\"Importances\")\n",
        "plt.bar(range(X_train.shape[1]), importances[indices])\n",
        "plt.xticks(range(X_train.shape[1]), names, rotation=90)\n",
        "plt.savefig(\"RF_features.png\")"
      ],
      "execution_count": null,
      "outputs": []
    },
    {
      "cell_type": "code",
      "metadata": {
        "id": "AEZWhNJQp7j5",
        "colab_type": "code",
        "colab": {}
      },
      "source": [
        "estimator = rf.estimators_[7]\n",
        "export_graphviz(estimator, out_file=dot_data)   \n",
        "graph = pydotplus.graph_from_dot_data(dot_data.getvalue())\n",
        "graph.write_png(\"Rf_tree.png\")"
      ],
      "execution_count": null,
      "outputs": []
    }
  ]
}